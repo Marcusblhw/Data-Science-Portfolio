{
 "cells": [
  {
   "cell_type": "code",
   "execution_count": 24,
   "metadata": {},
   "outputs": [],
   "source": [
    "import pandas as pd\n",
    "from sklearn.model_selection import train_test_split\n",
    "from sklearn.linear_model import LinearRegression\n",
    "\n",
    "df = pd.read_csv('https://aisgaiap.blob.core.windows.net/aiap5-assessment-data/traffic_data.csv')\n",
    "split_df = df['date_time'].str.split('(\\d+)', expand=True)\n",
    "df['month'] = pd.to_numeric(split_df[3])\n",
    "df['day'] = pd.to_numeric(split_df[5])\n",
    "df['time'] = pd.to_numeric(split_df[7])\n",
    "\n",
    "#Change string data in holiday & weather_main features into integers to be used in MLR later.\n",
    "df.holiday = df.holiday.replace({\"None\": \"1\", \n",
    "                                 \"New Years Day\": \"2\", \n",
    "                                 \"Washingtons Birthday\": \"3\",\n",
    "                                 \"Memorial Day\" : \"4\",\n",
    "                                 'Independence Day':'5',\n",
    "                                 'State Fair':'6',\n",
    "                                 'Labor Day':'7',\n",
    "                                 'Columbus Day':'8',\n",
    "                                 'Veterans Day':'9',\n",
    "                                 'Thanksgiving Day':'10',\n",
    "                                 'Christmas Day':'11'\n",
    "                                })\n",
    "df['holiday']=pd.to_numeric(df.holiday)\n",
    "\n",
    "df.weather_main = df.weather_main.replace({'Clouds':'1',\n",
    "                                 'Snow':'2',\n",
    "                                 'Clear':'3',\n",
    "                                 'Mist':'4',\n",
    "                                 'Haze':'5',\n",
    "                                 'Fog':'6',\n",
    "                                 'Rain':'7',\n",
    "                                 'Drizzle':'8',\n",
    "                                 'Thunderstorm':'9',\n",
    "                                 'Squall':'10'\n",
    "                                })\n",
    "df['weather_main']=pd.to_numeric(df.weather_main)\n",
    "\n",
    "def predict(holiday, weather_main, month, day, time):\n",
    "    x = df[['holiday', 'weather_main','month', 'day', 'time']]\n",
    "    y = df['traffic_volume']\n",
    "    x_train, x_test, y_train, y_test = train_test_split(x, y, train_size=0.8, test_size=0.2)\n",
    "\n",
    "    mlr = LinearRegression()\n",
    "    mlr.fit(x_train, y_train) \n",
    "\n",
    "    y_predicted = mlr.predict(x_test)\n",
    "\n",
    "    variables = [[holiday, weather_main, month,day, time]]\n",
    "\n",
    "    predict = mlr.predict(variables)\n",
    "\n",
    "    print('The predicted traffic volume on the {}/{} is:{}'.format(day, month, predict))"
   ]
  }
 ],
 "metadata": {
  "kernelspec": {
   "display_name": "Python 3",
   "language": "python",
   "name": "python3"
  },
  "language_info": {
   "codemirror_mode": {
    "name": "ipython",
    "version": 3
   },
   "file_extension": ".py",
   "mimetype": "text/x-python",
   "name": "python",
   "nbconvert_exporter": "python",
   "pygments_lexer": "ipython3",
   "version": "3.6.8"
  }
 },
 "nbformat": 4,
 "nbformat_minor": 2
}
